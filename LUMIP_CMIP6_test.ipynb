{
 "cells": [
  {
   "cell_type": "markdown",
   "metadata": {},
   "source": [
    "## Read in and do simple analysis of LUMIP simulations"
   ]
  },
  {
   "cell_type": "code",
   "execution_count": 1,
   "metadata": {},
   "outputs": [],
   "source": [
    "import xarray as xr\n",
    "import numpy as np\n",
    "import matplotlib.pyplot as plt"
   ]
  },
  {
   "cell_type": "markdown",
   "metadata": {},
   "source": [
    "### Import CMIP6 output"
   ]
  },
  {
   "cell_type": "code",
   "execution_count": 2,
   "metadata": {},
   "outputs": [
    {
     "name": "stderr",
     "output_type": "stream",
     "text": [
      "/ncar/usr/jupyterhub/envs/cmip6-201910a/lib/python3.7/site-packages/intake/source/discovery.py:136: FutureWarning: The drivers ['stac-catalog', 'stac-collection', 'stac-item'] do not specify entry_points and were only discovered via a package scan. This may break in a future release of intake. The packages should be updated.\n",
      "  FutureWarning)\n"
     ]
    }
   ],
   "source": [
    "import intake"
   ]
  },
  {
   "cell_type": "markdown",
   "metadata": {},
   "source": [
    "Catalog on cloud has more output (glade not up to date?)"
   ]
  },
  {
   "cell_type": "code",
   "execution_count": 3,
   "metadata": {},
   "outputs": [],
   "source": [
    "#catalog = intake.open_esm_datastore(\"../catalogs/pangeo-cmip6.json\")\n",
    "catalog = intake.open_esm_datastore(\"/glade/collections/cmip/catalog/intake-esm-datastore/catalogs/glade-cmip6.json\")"
   ]
  },
  {
   "cell_type": "markdown",
   "metadata": {},
   "source": [
    "Search for the experiments/variables, then futher refine by models (source_id) and ensemble members (member_id)\n",
    "Looks like there isn't really any hist-noLu data available so playing around with deforest-globe instead (see cells below)"
   ]
  },
  {
   "cell_type": "code",
   "execution_count": null,
   "metadata": {},
   "outputs": [],
   "source": [
    "#sr_nbp = catalog.search(experiment_id=['historical','hist-noLu'], variable_id='nbp', \n",
    "#                        source_id=['CanESM5', 'CESM2'],\n",
    "#                        member_id = ['r1i1p1f1', 'r2i1p1f1', 'r3i1p1f1'])\n",
    "sr_nbp = catalog.search(experiment_id=['historical','hist-noLu'], variable_id='nbp', member_id=['r1i1p1f1'])\n",
    "sr_nbp"
   ]
  },
  {
   "cell_type": "code",
   "execution_count": 4,
   "metadata": {},
   "outputs": [],
   "source": [
    "catalog.search(activity_id='LUMIP', table_id='Lmon')\n",
    "sr_nbp = catalog.search(activity_id='LUMIP', variable_id='nbp', experiment_id=['deforest-globe'])"
   ]
  },
  {
   "cell_type": "code",
   "execution_count": null,
   "metadata": {},
   "outputs": [],
   "source": [
    "catalog.df.head()"
   ]
  },
  {
   "cell_type": "code",
   "execution_count": 5,
   "metadata": {},
   "outputs": [
    {
     "name": "stdout",
     "output_type": "stream",
     "text": [
      "{'experiment_id': {'count': 1, 'values': ['deforest-globe']},\n",
      " 'source_id': {'count': 4,\n",
      "               'values': ['CNRM-ESM2-1', 'CESM2', 'CanESM5', 'IPSL-CM6A-LR']},\n",
      " 'table_id': {'count': 1, 'values': ['Lmon']}}\n"
     ]
    }
   ],
   "source": [
    "import pprint \n",
    "uni_dict = sr_nbp.unique(['source_id', 'experiment_id', 'table_id'])\n",
    "pprint.pprint(uni_dict, compact=True)"
   ]
  },
  {
   "cell_type": "code",
   "execution_count": 6,
   "metadata": {},
   "outputs": [
    {
     "data": {
      "text/plain": [
       "{'grid_label': {'count': 2, 'values': ['gr', 'gn']}}"
      ]
     },
     "execution_count": 6,
     "metadata": {},
     "output_type": "execute_result"
    }
   ],
   "source": [
    "sr_nbp.unique('grid_label')"
   ]
  },
  {
   "cell_type": "markdown",
   "metadata": {},
   "source": [
    "### Get the fixed variables output, only available for historical simulations (gridcell area, landfrac)\n",
    "Can subset the models and ensemble members"
   ]
  },
  {
   "cell_type": "code",
   "execution_count": 8,
   "metadata": {},
   "outputs": [],
   "source": [
    "#  Would be nice if you could use the source ids that you retrieved earlier, rather than list\n",
    "# every model separetly, but don't know what the syntax should be.\n",
    "# e.g. something like:\n",
    "# sr_fx_ctrl_vars = catalog.search(table_id = ['fx'], source_id = sr_nbp.source_id, \n",
    "#                                 member_id = ['r1i1p1f1'], \n",
    "#                                experiment_id = 'historical', variable_id = ['areacella', 'sftlf'])\n",
    "\n",
    "sr_fx_ctrl_vars = catalog.search(table_id = ['fx'], source_id = ['CNRM-ESM2-1', 'CESM2', 'CanESM5', 'IPSL-CM6A-LR'], \n",
    "                                 member_id = ['r1i1p1f1'], \n",
    "                                 experiment_id = 'historical', variable_id = ['areacella', 'sftlf'])"
   ]
  },
  {
   "cell_type": "code",
   "execution_count": 9,
   "metadata": {},
   "outputs": [
    {
     "data": {
      "text/plain": [
       "{'grid_label': {'count': 2, 'values': ['gn', 'gr']}}"
      ]
     },
     "execution_count": 9,
     "metadata": {},
     "output_type": "execute_result"
    }
   ],
   "source": [
    "sr_fx_ctrl_vars.unique('grid_label')"
   ]
  },
  {
   "cell_type": "markdown",
   "metadata": {},
   "source": [
    "### Convert the searchs to dictionaries"
   ]
  },
  {
   "cell_type": "code",
   "execution_count": 10,
   "metadata": {},
   "outputs": [
    {
     "name": "stdout",
     "output_type": "stream",
     "text": [
      "\n",
      "xarray will load netCDF datasets with dask using a single chunk for all arrays.\n",
      "For effective chunking, please provide chunks in cdf_kwargs.\n",
      "For example: cdf_kwargs={'chunks': {'time': 36}}\n",
      "\n",
      "--> The keys in the returned dictionary of datasets are constructed as follows:\n",
      "\t'activity_id.institution_id.source_id.experiment_id.table_id.grid_label'\n",
      "\n",
      "--> There will be 4 group(s)\n"
     ]
    },
    {
     "name": "stderr",
     "output_type": "stream",
     "text": [
      "/ncar/usr/jupyterhub/envs/cmip6-201910a/lib/python3.7/site-packages/xarray/conventions.py:494: SerializationWarning: variable 'nbp' has multiple fill values {1e+20, 1e+20}, decoding all values to NaN.\n",
      "  use_cftime=use_cftime,\n"
     ]
    }
   ],
   "source": [
    "nbp_ds = sr_nbp.to_dataset_dict()"
   ]
  },
  {
   "cell_type": "code",
   "execution_count": 11,
   "metadata": {},
   "outputs": [
    {
     "data": {
      "text/plain": [
       "dict_keys(['LUMIP.CCCma.CanESM5.deforest-globe.Lmon.gn', 'LUMIP.CNRM-CERFACS.CNRM-ESM2-1.deforest-globe.Lmon.gr', 'LUMIP.IPSL.IPSL-CM6A-LR.deforest-globe.Lmon.gr', 'LUMIP.NCAR.CESM2.deforest-globe.Lmon.gn'])"
      ]
     },
     "execution_count": 11,
     "metadata": {},
     "output_type": "execute_result"
    }
   ],
   "source": [
    "nbp_ds.keys()"
   ]
  },
  {
   "cell_type": "code",
   "execution_count": 12,
   "metadata": {},
   "outputs": [
    {
     "name": "stdout",
     "output_type": "stream",
     "text": [
      "\n",
      "xarray will load netCDF datasets with dask using a single chunk for all arrays.\n",
      "For effective chunking, please provide chunks in cdf_kwargs.\n",
      "For example: cdf_kwargs={'chunks': {'time': 36}}\n",
      "\n",
      "--> The keys in the returned dictionary of datasets are constructed as follows:\n",
      "\t'activity_id.institution_id.source_id.experiment_id.table_id.grid_label'\n",
      "\n",
      "--> There will be 3 group(s)\n"
     ]
    },
    {
     "name": "stderr",
     "output_type": "stream",
     "text": [
      "/ncar/usr/jupyterhub/envs/cmip6-201910a/lib/python3.7/site-packages/xarray/conventions.py:494: SerializationWarning: variable 'areacella' has multiple fill values {1e+20, 1e+20}, decoding all values to NaN.\n",
      "  use_cftime=use_cftime,\n",
      "/ncar/usr/jupyterhub/envs/cmip6-201910a/lib/python3.7/site-packages/xarray/conventions.py:494: SerializationWarning: variable 'sftlf' has multiple fill values {1e+20, 1e+20}, decoding all values to NaN.\n",
      "  use_cftime=use_cftime,\n"
     ]
    }
   ],
   "source": [
    "fx_ds = sr_fx_ctrl_vars.to_dataset_dict()"
   ]
  },
  {
   "cell_type": "code",
   "execution_count": 13,
   "metadata": {},
   "outputs": [
    {
     "data": {
      "text/plain": [
       "dict_keys(['CMIP.CCCma.CanESM5.historical.fx.gn', 'CMIP.IPSL.IPSL-CM6A-LR.historical.fx.gr', 'CMIP.NCAR.CESM2.historical.fx.gn'])"
      ]
     },
     "execution_count": 13,
     "metadata": {},
     "output_type": "execute_result"
    }
   ],
   "source": [
    "fx_ds.keys()\n",
    "# note that this couldn't find the CNRM fx files, how would one efficiently go about figuring out where those\n",
    "# data might be avaialable."
   ]
  },
  {
   "cell_type": "markdown",
   "metadata": {},
   "source": [
    "Grab NBP for both models / experiments"
   ]
  },
  {
   "cell_type": "code",
   "execution_count": 14,
   "metadata": {},
   "outputs": [],
   "source": [
    "nbp_canesm = nbp_ds['LUMIP.CCCma.CanESM5.deforest-globe.Lmon.gn'].nbp\n",
    "nbp_cnrm = nbp_ds['LUMIP.CNRM-CERFACS.CNRM-ESM2-1.deforest-globe.Lmon.gr'].nbp\n",
    "nbp_ipsl = nbp_ds['LUMIP.IPSL.IPSL-CM6A-LR.deforest-globe.Lmon.gr'].nbp\n",
    "nbp_cesm = nbp_ds['LUMIP.NCAR.CESM2.deforest-globe.Lmon.gn'].nbp"
   ]
  },
  {
   "cell_type": "code",
   "execution_count": 15,
   "metadata": {},
   "outputs": [
    {
     "data": {
      "text/plain": [
       "<xarray.DataArray 'nbp' (member_id: 1, time: 1092, lat: 64, lon: 128)>\n",
       "dask.array<transpose, shape=(1, 1092, 64, 128), dtype=float32, chunksize=(1, 1092, 64, 128), chunktype=numpy.ndarray>\n",
       "Coordinates:\n",
       "  * lon        (lon) float64 0.0 2.812 5.625 8.438 ... 348.8 351.6 354.4 357.2\n",
       "  * member_id  (member_id) <U8 'r1i1p2f1'\n",
       "  * lat        (lat) float64 -87.86 -85.1 -82.31 -79.53 ... 82.31 85.1 87.86\n",
       "  * time       (time) object 1850-01-16 12:00:00 ... 1940-12-16 12:00:00\n",
       "Attributes:\n",
       "    standard_name:  surface_net_downward_mass_flux_of_carbon_dioxide_expresse...\n",
       "    long_name:      Carbon Mass Flux out of Atmosphere Due to Net Biospheric ...\n",
       "    comment:        up is changed to down! CFNB*12.011E-9, LUMIP_table_commen...\n",
       "    units:          kg m-2 s-1\n",
       "    original_name:  CFNB\n",
       "    history:        mltby12em9 2019-05-09T01:46:15Z altered by CMOR: Reordere...\n",
       "    cell_methods:   area: mean where land time: mean\n",
       "    cell_measures:  area: areacella"
      ]
     },
     "execution_count": 15,
     "metadata": {},
     "output_type": "execute_result"
    }
   ],
   "source": [
    "nbp_canesm"
   ]
  },
  {
   "cell_type": "markdown",
   "metadata": {},
   "source": [
    "Grab landfrac and cell area for both models (different resolutions)"
   ]
  },
  {
   "cell_type": "code",
   "execution_count": 16,
   "metadata": {},
   "outputs": [],
   "source": [
    "landfrac_cesm = fx_ds['CMIP.NCAR.CESM2.historical.fx.gn'].sftlf\n",
    "area_cesm = fx_ds['CMIP.NCAR.CESM2.historical.fx.gn'].areacella\n",
    "landfrac_canesm = fx_ds['CMIP.CCCma.CanESM5.historical.fx.gn'].sftlf\n",
    "area_canesm = fx_ds['CMIP.CCCma.CanESM5.historical.fx.gn'].areacella\n",
    "landfrac_ipsl = fx_ds['CMIP.IPSL.IPSL-CM6A-LR.historical.fx.gr'].sftlf\n",
    "area_ipsl = fx_ds['CMIP.IPSL.IPSL-CM6A-LR.historical.fx.gr'].areacella"
   ]
  },
  {
   "cell_type": "markdown",
   "metadata": {},
   "source": [
    "### Make weights for global sum\n",
    "Convert landfrac from % to fraction between 0-1"
   ]
  },
  {
   "cell_type": "code",
   "execution_count": 17,
   "metadata": {},
   "outputs": [],
   "source": [
    "landUp_cesm = area_cesm * landfrac_cesm / 100\n",
    "landUp_canesm = area_canesm * landfrac_canesm / 100\n",
    "landUp_ipsl = area_ipsl * landfrac_ipsl / 100"
   ]
  },
  {
   "cell_type": "markdown",
   "metadata": {},
   "source": [
    "Check lat diffs between fx vars and output"
   ]
  },
  {
   "cell_type": "code",
   "execution_count": 18,
   "metadata": {},
   "outputs": [
    {
     "name": "stdout",
     "output_type": "stream",
     "text": [
      "[0. 0. 0. 0. 0. 0. 0. 0. 0. 0. 0. 0. 0. 0. 0. 0. 0. 0. 0. 0. 0. 0. 0. 0.\n",
      " 0. 0. 0. 0. 0. 0. 0. 0. 0. 0. 0. 0. 0. 0. 0. 0. 0. 0. 0. 0. 0. 0. 0. 0.\n",
      " 0. 0. 0. 0. 0. 0. 0. 0. 0. 0. 0. 0. 0. 0. 0. 0. 0. 0. 0. 0. 0. 0. 0. 0.\n",
      " 0. 0. 0. 0. 0. 0. 0. 0. 0. 0. 0. 0. 0. 0. 0. 0. 0. 0. 0. 0. 0. 0. 0. 0.\n",
      " 0. 0. 0. 0. 0. 0. 0. 0. 0. 0. 0. 0. 0. 0. 0. 0. 0. 0. 0. 0. 0. 0. 0. 0.\n",
      " 0. 0. 0. 0. 0. 0. 0. 0. 0. 0. 0. 0. 0. 0. 0. 0. 0. 0. 0. 0. 0. 0. 0.]\n"
     ]
    }
   ],
   "source": [
    "latdiffs = landUp_cesm.lat.values - nbp_cesm.lat.values # MISMATCH\n",
    "latdiffs = landUp_canesm.lat.values - nbp_canesm.lat.values # OK\n",
    "latdiffs = landUp_ipsl.lat.values - nbp_ipsl.lat.values # OK\n",
    "print(latdiffs)"
   ]
  },
  {
   "cell_type": "markdown",
   "metadata": {},
   "source": [
    "CESM needs correction"
   ]
  },
  {
   "cell_type": "code",
   "execution_count": 21,
   "metadata": {},
   "outputs": [],
   "source": [
    "landUp_cesm_modlat = landUp_cesm # create new landUp\n",
    "landUp_cesm_modlat.lat.values = nbp_cesm.lat.values # just assign landUp lats to match nbp lats\n",
    "#print(landUp_cesm_modlat.lat.values - nbp_esm_cesm.lat.values) # sanity checks\n",
    "#print(landUp_cesm_modlat.lat.values - nbp_ssp_cesm.lat.values)"
   ]
  },
  {
   "cell_type": "markdown",
   "metadata": {},
   "source": [
    "### Weighted annual means"
   ]
  },
  {
   "cell_type": "code",
   "execution_count": 19,
   "metadata": {},
   "outputs": [],
   "source": [
    "def weighted_annual_mean(array):\n",
    "    mon_day  = xr.DataArray(np.array([31,28,31,30,31,30,31,31,30,31,30,31]), dims=['month'])\n",
    "    mon_wgt  = mon_day/mon_day.sum()\n",
    "    return (array.rolling(time=12, center=False) # rolling\n",
    "            .construct(\"month\") # construct the array\n",
    "            .isel(time=slice(11, None, 12)) # slice so that the first element is [1..12], second is [13..24]\n",
    "            .dot(mon_wgt, dims=[\"month\"]))"
   ]
  },
  {
   "cell_type": "markdown",
   "metadata": {},
   "source": [
    "Convert  to annual fluxes (kgC/m2/y), from kgC/m2/s "
   ]
  },
  {
   "cell_type": "code",
   "execution_count": 20,
   "metadata": {},
   "outputs": [],
   "source": [
    "spy = 365 * 24 * 3600"
   ]
  },
  {
   "cell_type": "code",
   "execution_count": 23,
   "metadata": {},
   "outputs": [],
   "source": [
    "nbp_cesm_amean = weighted_annual_mean(nbp_cesm) * spy\n",
    "nbp_cesm_amean.attrs['units'] = 'kgC m-2 y-1'\n",
    "nbp_cesm_amean \n",
    "temp = nbp_cesm_amean.values\n",
    "#print(temp)"
   ]
  },
  {
   "cell_type": "code",
   "execution_count": 24,
   "metadata": {},
   "outputs": [],
   "source": [
    "nbp_ipsl_amean = weighted_annual_mean(nbp_ipsl) * spy\n",
    "nbp_ipsl_amean.attrs['units'] = 'kgC m-2 y-1'\n",
    "nbp_ipsl_amean \n",
    "temp = nbp_ipsl_amean.values\n",
    "#print(temp)"
   ]
  },
  {
   "cell_type": "markdown",
   "metadata": {},
   "source": [
    "### Calculate global sums\n",
    "Instantaneous and cumulative"
   ]
  },
  {
   "cell_type": "code",
   "execution_count": 40,
   "metadata": {},
   "outputs": [
    {
     "data": {
      "text/plain": [
       "<xarray.DataArray (member_id: 1, time: 80)>\n",
       "dask.array<mul, shape=(1, 80), dtype=float64, chunksize=(1, 80), chunktype=numpy.ndarray>\n",
       "Coordinates:\n",
       "  * member_id  (member_id) <U8 'r1i1p1f1'\n",
       "  * time       (time) object 1850-12-15 12:00:00 ... 1929-12-15 12:00:00\n",
       "Attributes:\n",
       "    units:    Pg C y^-1"
      ]
     },
     "execution_count": 40,
     "metadata": {},
     "output_type": "execute_result"
    }
   ],
   "source": [
    "mean_wgt_cesm = nbp_cesm_amean * landUp_cesm_modlat\n",
    "ann_glob_cesm = mean_wgt_cesm.sum(dim=('lat','lon')) * 1e-12 #convert to Pg/y\n",
    "# try without weights\n",
    "ann_glob_cesm = nbp_cesm_amean.sum(dim=('lat','lon')) * 1e-12\n",
    "ann_glob_cesm.attrs['units'] = 'Pg C y^-1'\n",
    "cann_glob_cesm = ann_glob_cesm.cumsum(dim='time')\n",
    "cann_glob_cesm.attrs['units'] = 'Pg C'\n",
    "ann_glob_cesm"
   ]
  },
  {
   "cell_type": "code",
   "execution_count": 45,
   "metadata": {},
   "outputs": [],
   "source": [
    "mean_wgt_ipsl = nbp_ipsl_amean * landUp_ipsl\n",
    "ann_glob_ipsl = mean_wgt_ipsl.sum(dim=('lat','lon')) * 1e-12 #convert to Pg/y\n",
    "ann_glob_ipsl = nbp_ipsl_amean.sum(dim=('lat','lon')) * 1e-12\n",
    "ann_glob_ipsl.attrs['units'] = 'Pg C y^-1'\n",
    "cann_glob_ipsl = ann_glob_ipsl.cumsum(dim='time')\n",
    "cann_glob_ipsl.attrs['units'] = 'Pg C'"
   ]
  },
  {
   "cell_type": "code",
   "execution_count": 52,
   "metadata": {},
   "outputs": [
    {
     "data": {
      "text/plain": [
       "<xarray.DataArray (member_id: 1, time: 91)>\n",
       "dask.array<nancumsum, shape=(1, 91), dtype=float64, chunksize=(1, 91), chunktype=numpy.ndarray>\n",
       "Coordinates:\n",
       "  * member_id  (member_id) <U8 'r1i1p2f1'\n",
       "  * time       (time) object 1850-12-16 12:00:00 ... 1940-12-16 12:00:00\n",
       "Attributes:\n",
       "    units:    Pg C"
      ]
     },
     "execution_count": 52,
     "metadata": {},
     "output_type": "execute_result"
    }
   ],
   "source": [
    "mean_wgt_canesm = nbp_canesm_amean * landUp_canesm\n",
    "ann_glob_canesm = mean_wgt_canesm.sum(dim=('lat','lon')) * 1e-12 #convert to Pg/y\n",
    "# try without weights\n",
    "ann_glob_canesm = nbp_canesm_amean.sum(dim=('lat','lon')) * 1e-12\n",
    "ann_glob_canesm.attrs['units'] = 'Pg C y^-1'\n",
    "cann_glob_canesm = ann_glob_canesm.cumsum(dim='time')\n",
    "cann_glob_canesm.attrs['units'] = 'Pg C'\n",
    "cann_glob_canesm"
   ]
  },
  {
   "cell_type": "markdown",
   "metadata": {},
   "source": [
    "### Plot the timeseries"
   ]
  },
  {
   "cell_type": "markdown",
   "metadata": {},
   "source": [
    "Way to calculate ensemble means"
   ]
  },
  {
   "cell_type": "code",
   "execution_count": 47,
   "metadata": {},
   "outputs": [
    {
     "data": {
      "text/plain": [
       "<xarray.DataArray (member_id: 1, time: 80)>\n",
       "dask.array<mul, shape=(1, 80), dtype=float64, chunksize=(1, 80), chunktype=numpy.ndarray>\n",
       "Coordinates:\n",
       "  * member_id  (member_id) <U8 'r1i1p1f1'\n",
       "  * time       (time) object 1850-12-15 12:00:00 ... 1929-12-15 12:00:00\n",
       "Attributes:\n",
       "    units:    Pg C y^-1"
      ]
     },
     "execution_count": 47,
     "metadata": {},
     "output_type": "execute_result"
    }
   ],
   "source": [
    "ann_glob_cesm.mean(dim=\"member_id\")\n",
    "ann_glob_canesm.mean(dim=\"member_id\")\n",
    "#ann_glob_ipsl.mean(dim=\"member_id\")\n",
    "ann_glob_cesm"
   ]
  },
  {
   "cell_type": "markdown",
   "metadata": {},
   "source": [
    "Instantaneous global sums"
   ]
  },
  {
   "cell_type": "code",
   "execution_count": 49,
   "metadata": {},
   "outputs": [
    {
     "data": {
      "image/png": "[encoded data removed]",
      "text/plain": [
       "<Figure size 864x576 with 1 Axes>"
      ]
     },
     "metadata": {
      "needs_background": "light"
     },
     "output_type": "display_data"
    }
   ],
   "source": [
    "fig = plt.figure(figsize=(12, 8))\n",
    "\n",
    "# Ask, out of a 1x1 grid, the first axes.\n",
    "ax = fig.add_subplot(1, 1, 1)\n",
    "\n",
    "# Plot times as x-variable and temperatures as y-variable\n",
    "ax.plot(ann_glob_cesm.coords['time.year'], ann_glob_cesm.mean(dim=\"member_id\"), label='CESM2')\n",
    "ax.plot(ann_glob_canesm.coords['time.year'], ann_glob_canesm.mean(dim=\"member_id\"), label='CanESM')\n",
    "ax.plot(ann_glob_ipsl.coords['time.year'], ann_glob_ipsl.mean(dim=\"member_id\"), label='IPSL')\n",
    "# Add some labels to the plot\n",
    "ax.set_xlabel('Time')\n",
    "ax.set_ylabel('NBP'+' (' + ann_glob_cesm.attrs['units'] +')')\n",
    "ax.set_title('Deforest-Globe: Projected Changes in Annual Total NBP', fontdict={'size':16})\n",
    "ax.legend(loc='upper left');\n",
    "#plt.savefig('cesm_canesm_ssp585_esm585_nbp.pdf')"
   ]
  },
  {
   "cell_type": "markdown",
   "metadata": {},
   "source": [
    "Cummulative global sums"
   ]
  },
  {
   "cell_type": "code",
   "execution_count": 51,
   "metadata": {},
   "outputs": [
    {
     "ename": "NameError",
     "evalue": "name 'cann_glob_canesm_' is not defined",
     "output_type": "error",
     "traceback": [
      "\u001b[0;31m---------------------------------------------------------------------------\u001b[0m",
      "\u001b[0;31mNameError\u001b[0m                                 Traceback (most recent call last)",
      "\u001b[0;32m<ipython-input-51-c41fb58be661>\u001b[0m in \u001b[0;36m<module>\u001b[0;34m\u001b[0m\n\u001b[1;32m      6\u001b[0m \u001b[0;31m# Plot times as x-variable and temperatures as y-variable\u001b[0m\u001b[0;34m\u001b[0m\u001b[0;34m\u001b[0m\u001b[0;34m\u001b[0m\u001b[0m\n\u001b[1;32m      7\u001b[0m \u001b[0max\u001b[0m\u001b[0;34m.\u001b[0m\u001b[0mplot\u001b[0m\u001b[0;34m(\u001b[0m\u001b[0mcann_glob_cesm\u001b[0m\u001b[0;34m.\u001b[0m\u001b[0mcoords\u001b[0m\u001b[0;34m[\u001b[0m\u001b[0;34m'time.year'\u001b[0m\u001b[0;34m]\u001b[0m\u001b[0;34m,\u001b[0m \u001b[0mcann_glob_cesm\u001b[0m\u001b[0;34m.\u001b[0m\u001b[0mmean\u001b[0m\u001b[0;34m(\u001b[0m\u001b[0mdim\u001b[0m\u001b[0;34m=\u001b[0m\u001b[0;34m\"member_id\"\u001b[0m\u001b[0;34m)\u001b[0m\u001b[0;34m,\u001b[0m \u001b[0mlabel\u001b[0m\u001b[0;34m=\u001b[0m\u001b[0;34m'CESM2'\u001b[0m\u001b[0;34m)\u001b[0m\u001b[0;34m\u001b[0m\u001b[0;34m\u001b[0m\u001b[0m\n\u001b[0;32m----> 8\u001b[0;31m \u001b[0max\u001b[0m\u001b[0;34m.\u001b[0m\u001b[0mplot\u001b[0m\u001b[0;34m(\u001b[0m\u001b[0mcann_glob_canesm\u001b[0m\u001b[0;34m.\u001b[0m\u001b[0mcoords\u001b[0m\u001b[0;34m[\u001b[0m\u001b[0;34m'time.year'\u001b[0m\u001b[0;34m]\u001b[0m\u001b[0;34m,\u001b[0m \u001b[0mcann_glob_canesm_\u001b[0m\u001b[0;34m.\u001b[0m\u001b[0mmean\u001b[0m\u001b[0;34m(\u001b[0m\u001b[0mdim\u001b[0m\u001b[0;34m=\u001b[0m\u001b[0;34m\"member_id\"\u001b[0m\u001b[0;34m)\u001b[0m\u001b[0;34m,\u001b[0m \u001b[0mlabel\u001b[0m\u001b[0;34m=\u001b[0m\u001b[0;34m'CanESM'\u001b[0m\u001b[0;34m)\u001b[0m\u001b[0;34m\u001b[0m\u001b[0;34m\u001b[0m\u001b[0m\n\u001b[0m\u001b[1;32m      9\u001b[0m \u001b[0max\u001b[0m\u001b[0;34m.\u001b[0m\u001b[0mplot\u001b[0m\u001b[0;34m(\u001b[0m\u001b[0mcann_glob_ipsl\u001b[0m\u001b[0;34m.\u001b[0m\u001b[0mcoords\u001b[0m\u001b[0;34m[\u001b[0m\u001b[0;34m'time.year'\u001b[0m\u001b[0;34m]\u001b[0m\u001b[0;34m,\u001b[0m \u001b[0mcann_glob_ipsl\u001b[0m\u001b[0;34m.\u001b[0m\u001b[0mmean\u001b[0m\u001b[0;34m(\u001b[0m\u001b[0mdim\u001b[0m\u001b[0;34m=\u001b[0m\u001b[0;34m\"member_id\"\u001b[0m\u001b[0;34m)\u001b[0m\u001b[0;34m,\u001b[0m \u001b[0mlabel\u001b[0m\u001b[0;34m=\u001b[0m\u001b[0;34m'IPSL'\u001b[0m\u001b[0;34m)\u001b[0m\u001b[0;34m\u001b[0m\u001b[0;34m\u001b[0m\u001b[0m\n\u001b[1;32m     10\u001b[0m \u001b[0;34m\u001b[0m\u001b[0m\n",
      "\u001b[0;31mNameError\u001b[0m: name 'cann_glob_canesm_' is not defined"
     ]
    },
    {
     "data": {
      "image/png": "[encoded data removed]",
      "text/plain": [
       "<Figure size 864x576 with 1 Axes>"
      ]
     },
     "metadata": {
      "needs_background": "light"
     },
     "output_type": "display_data"
    }
   ],
   "source": [
    "fig = plt.figure(figsize=(12, 8))\n",
    "\n",
    "# Ask, out of a 1x1 grid, the first axes.\n",
    "ax = fig.add_subplot(1, 1, 1)\n",
    "\n",
    "# Plot times as x-variable and temperatures as y-variable\n",
    "ax.plot(cann_glob_cesm.coords['time.year'], cann_glob_cesm.mean(dim=\"member_id\"), label='CESM2')\n",
    "ax.plot(cann_glob_canesm.coords['time.year'], cann_glob_canesm_.mean(dim=\"member_id\"), label='CanESM')\n",
    "ax.plot(cann_glob_ipsl.coords['time.year'], cann_glob_ipsl.mean(dim=\"member_id\"), label='IPSL')\n",
    "\n",
    "# Add some labels to the plot\n",
    "ax.set_xlabel('Time')\n",
    "ax.set_ylabel('NBP'+' (' + ann_glob_cesm.attrs['units'] +')')\n",
    "ax.set_title('Projected Changes in Cumulated Total NBP', fontdict={'size':16})\n",
    "ax.legend(loc='upper left');\n",
    "#plt.savefig('cesm_canesm_ssp585_esm585_nbp_cumulative.pdf')"
   ]
  },
  {
   "cell_type": "code",
   "execution_count": null,
   "metadata": {},
   "outputs": [],
   "source": []
  }
 ],
 "metadata": {
  "kernelspec": {
   "display_name": "CMIP6 2019.10a",
   "language": "python",
   "name": "cmip6-201910a"
  },
  "language_info": {
   "codemirror_mode": {
    "name": "ipython",
    "version": 3
   },
   "file_extension": ".py",
   "mimetype": "text/x-python",
   "name": "python",
   "nbconvert_exporter": "python",
   "pygments_lexer": "ipython3",
   "version": "3.7.3"
  }
 },
 "nbformat": 4,
 "nbformat_minor": 4
}
